{
 "cells": [
  {
   "cell_type": "code",
   "execution_count": 1,
   "id": "5c17c93e-f4c9-4ccd-9854-f328f544d68b",
   "metadata": {},
   "outputs": [],
   "source": [
    "import pandas as pd\n",
    "import numpy as np\n",
    "from sklearn.feature_extraction.text import CountVectorizer,TfidfVectorizer\n",
    "from sklearn.pipeline import Pipeline\n",
    "from sklearn.naive_bayes import MultinomialNB\n",
    "from sklearn.ensemble import RandomForestClassifier\n",
    "from sklearn.linear_model import LogisticRegression\n",
    "from sklearn.model_selection import train_test_split, GridSearchCV\n",
    "from sklearn.metrics import accuracy_score, classification_report"
   ]
  },
  {
   "cell_type": "code",
   "execution_count": 3,
   "id": "0e5c422c-288c-4053-b9cc-4c84a5570cc0",
   "metadata": {},
   "outputs": [],
   "source": [
    "df_stem = pd.read_csv(\"df_stem.csv\")\n",
    "df_lemma = pd.read_csv(\"df_lemma.csv\")"
   ]
  },
  {
   "cell_type": "code",
   "execution_count": 4,
   "id": "b080e8ac-b6c3-408c-ac78-1658111e2006",
   "metadata": {},
   "outputs": [
    {
     "data": {
      "text/plain": [
       "sentiment\n",
       "Negative      22312\n",
       "Positive      20619\n",
       "Neutral       18051\n",
       "Irrelevant    12842\n",
       "Name: count, dtype: int64"
      ]
     },
     "execution_count": 4,
     "metadata": {},
     "output_type": "execute_result"
    }
   ],
   "source": [
    "df_stem.sentiment.value_counts()"
   ]
  },
  {
   "cell_type": "code",
   "execution_count": 7,
   "id": "f77c17f9-189f-4818-9854-0ae4c700e9e9",
   "metadata": {},
   "outputs": [],
   "source": [
    "label_map = { \"Irrelevant\": 0, \"Positive\" : 1, \"Negative\" : 2, \"Neutral\": 3}"
   ]
  },
  {
   "cell_type": "code",
   "execution_count": 9,
   "id": "56936d61-4e0b-4a6a-a2e3-a0cb5902af5c",
   "metadata": {},
   "outputs": [],
   "source": [
    "df_stem[\"sentiment\"] = df_stem[\"sentiment\"].map(label_map)"
   ]
  },
  {
   "cell_type": "code",
   "execution_count": 11,
   "id": "ea215e02-0c0e-4650-baab-4f2606425db8",
   "metadata": {},
   "outputs": [
    {
     "data": {
      "text/plain": [
       "sentiment\n",
       "2    22312\n",
       "1    20619\n",
       "3    18051\n",
       "0    12842\n",
       "Name: count, dtype: int64"
      ]
     },
     "execution_count": 11,
     "metadata": {},
     "output_type": "execute_result"
    }
   ],
   "source": [
    "df_stem.sentiment.value_counts()"
   ]
  },
  {
   "cell_type": "code",
   "execution_count": 13,
   "id": "55858586-a93a-448d-8060-0ff0af05ea49",
   "metadata": {},
   "outputs": [],
   "source": [
    "X_stem = df_stem[\"text\"]\n",
    "y_stem =df_stem[\"sentiment\"]\n",
    "X_stem = X_stem.astype(str)"
   ]
  },
  {
   "cell_type": "code",
   "execution_count": 15,
   "id": "a140e924-d810-483b-96de-e6281c3253dc",
   "metadata": {},
   "outputs": [],
   "source": [
    "X_train_stem,X_test_stem,y_train_stem,y_test_stem = train_test_split(X_stem,y_stem,test_size = 0.2,random_state=1)"
   ]
  },
  {
   "cell_type": "code",
   "execution_count": 17,
   "id": "4ba45dad-92fb-4b85-8d9a-ae517c2f8917",
   "metadata": {},
   "outputs": [],
   "source": [
    "df_lemma[\"sentiment\"] = df_lemma[\"sentiment\"].map(label_map)"
   ]
  },
  {
   "cell_type": "code",
   "execution_count": 93,
   "id": "2418ad45-5e82-420c-b0cf-6c168bcc892a",
   "metadata": {},
   "outputs": [],
   "source": [
    "pipeline_bow_logistic_regression = Pipeline([\n",
    "    ('bow_vectorizer', CountVectorizer()),\n",
    "    ('logistic_regression', LogisticRegression(max_iter=10000))])"
   ]
  },
  {
   "cell_type": "code",
   "execution_count": 94,
   "id": "d0593cf7-0051-4597-b419-4cccf7992946",
   "metadata": {},
   "outputs": [],
   "source": [
    "pipeline_tfidf_logistic_regression =  Pipeline([\n",
    "    ('tfidf_vectorizer', TfidfVectorizer()),\n",
    "    ('logistic_regression', LogisticRegression(max_iter=10000))])"
   ]
  },
  {
   "cell_type": "code",
   "execution_count": 23,
   "id": "d3508352-4433-4a37-9273-b1b6bca01fcd",
   "metadata": {},
   "outputs": [],
   "source": [
    "param_grid_bow = {\n",
    "    \"bow_vectorizer__ngram_range\": [(1,1), (1,2), (2,2,), (1,3)]\n",
    "}"
   ]
  },
  {
   "cell_type": "code",
   "execution_count": 25,
   "id": "f90dabf8-4f0e-497d-b373-df35faf2f760",
   "metadata": {},
   "outputs": [],
   "source": [
    "param_grid_tfidf = {\n",
    "    \"tfidf_vectorizer__ngram_range\": [(1,1), (1,2), (2,2,), (1,3)]\n",
    "}"
   ]
  },
  {
   "cell_type": "code",
   "execution_count": 27,
   "id": "b7610d89-835e-4ea9-bfdb-7367cb96bf8f",
   "metadata": {},
   "outputs": [
    {
     "data": {
      "text/html": [
       "<style>#sk-container-id-1 {\n",
       "  /* Definition of color scheme common for light and dark mode */\n",
       "  --sklearn-color-text: black;\n",
       "  --sklearn-color-line: gray;\n",
       "  /* Definition of color scheme for unfitted estimators */\n",
       "  --sklearn-color-unfitted-level-0: #fff5e6;\n",
       "  --sklearn-color-unfitted-level-1: #f6e4d2;\n",
       "  --sklearn-color-unfitted-level-2: #ffe0b3;\n",
       "  --sklearn-color-unfitted-level-3: chocolate;\n",
       "  /* Definition of color scheme for fitted estimators */\n",
       "  --sklearn-color-fitted-level-0: #f0f8ff;\n",
       "  --sklearn-color-fitted-level-1: #d4ebff;\n",
       "  --sklearn-color-fitted-level-2: #b3dbfd;\n",
       "  --sklearn-color-fitted-level-3: cornflowerblue;\n",
       "\n",
       "  /* Specific color for light theme */\n",
       "  --sklearn-color-text-on-default-background: var(--sg-text-color, var(--theme-code-foreground, var(--jp-content-font-color1, black)));\n",
       "  --sklearn-color-background: var(--sg-background-color, var(--theme-background, var(--jp-layout-color0, white)));\n",
       "  --sklearn-color-border-box: var(--sg-text-color, var(--theme-code-foreground, var(--jp-content-font-color1, black)));\n",
       "  --sklearn-color-icon: #696969;\n",
       "\n",
       "  @media (prefers-color-scheme: dark) {\n",
       "    /* Redefinition of color scheme for dark theme */\n",
       "    --sklearn-color-text-on-default-background: var(--sg-text-color, var(--theme-code-foreground, var(--jp-content-font-color1, white)));\n",
       "    --sklearn-color-background: var(--sg-background-color, var(--theme-background, var(--jp-layout-color0, #111)));\n",
       "    --sklearn-color-border-box: var(--sg-text-color, var(--theme-code-foreground, var(--jp-content-font-color1, white)));\n",
       "    --sklearn-color-icon: #878787;\n",
       "  }\n",
       "}\n",
       "\n",
       "#sk-container-id-1 {\n",
       "  color: var(--sklearn-color-text);\n",
       "}\n",
       "\n",
       "#sk-container-id-1 pre {\n",
       "  padding: 0;\n",
       "}\n",
       "\n",
       "#sk-container-id-1 input.sk-hidden--visually {\n",
       "  border: 0;\n",
       "  clip: rect(1px 1px 1px 1px);\n",
       "  clip: rect(1px, 1px, 1px, 1px);\n",
       "  height: 1px;\n",
       "  margin: -1px;\n",
       "  overflow: hidden;\n",
       "  padding: 0;\n",
       "  position: absolute;\n",
       "  width: 1px;\n",
       "}\n",
       "\n",
       "#sk-container-id-1 div.sk-dashed-wrapped {\n",
       "  border: 1px dashed var(--sklearn-color-line);\n",
       "  margin: 0 0.4em 0.5em 0.4em;\n",
       "  box-sizing: border-box;\n",
       "  padding-bottom: 0.4em;\n",
       "  background-color: var(--sklearn-color-background);\n",
       "}\n",
       "\n",
       "#sk-container-id-1 div.sk-container {\n",
       "  /* jupyter's `normalize.less` sets `[hidden] { display: none; }`\n",
       "     but bootstrap.min.css set `[hidden] { display: none !important; }`\n",
       "     so we also need the `!important` here to be able to override the\n",
       "     default hidden behavior on the sphinx rendered scikit-learn.org.\n",
       "     See: https://github.com/scikit-learn/scikit-learn/issues/21755 */\n",
       "  display: inline-block !important;\n",
       "  position: relative;\n",
       "}\n",
       "\n",
       "#sk-container-id-1 div.sk-text-repr-fallback {\n",
       "  display: none;\n",
       "}\n",
       "\n",
       "div.sk-parallel-item,\n",
       "div.sk-serial,\n",
       "div.sk-item {\n",
       "  /* draw centered vertical line to link estimators */\n",
       "  background-image: linear-gradient(var(--sklearn-color-text-on-default-background), var(--sklearn-color-text-on-default-background));\n",
       "  background-size: 2px 100%;\n",
       "  background-repeat: no-repeat;\n",
       "  background-position: center center;\n",
       "}\n",
       "\n",
       "/* Parallel-specific style estimator block */\n",
       "\n",
       "#sk-container-id-1 div.sk-parallel-item::after {\n",
       "  content: \"\";\n",
       "  width: 100%;\n",
       "  border-bottom: 2px solid var(--sklearn-color-text-on-default-background);\n",
       "  flex-grow: 1;\n",
       "}\n",
       "\n",
       "#sk-container-id-1 div.sk-parallel {\n",
       "  display: flex;\n",
       "  align-items: stretch;\n",
       "  justify-content: center;\n",
       "  background-color: var(--sklearn-color-background);\n",
       "  position: relative;\n",
       "}\n",
       "\n",
       "#sk-container-id-1 div.sk-parallel-item {\n",
       "  display: flex;\n",
       "  flex-direction: column;\n",
       "}\n",
       "\n",
       "#sk-container-id-1 div.sk-parallel-item:first-child::after {\n",
       "  align-self: flex-end;\n",
       "  width: 50%;\n",
       "}\n",
       "\n",
       "#sk-container-id-1 div.sk-parallel-item:last-child::after {\n",
       "  align-self: flex-start;\n",
       "  width: 50%;\n",
       "}\n",
       "\n",
       "#sk-container-id-1 div.sk-parallel-item:only-child::after {\n",
       "  width: 0;\n",
       "}\n",
       "\n",
       "/* Serial-specific style estimator block */\n",
       "\n",
       "#sk-container-id-1 div.sk-serial {\n",
       "  display: flex;\n",
       "  flex-direction: column;\n",
       "  align-items: center;\n",
       "  background-color: var(--sklearn-color-background);\n",
       "  padding-right: 1em;\n",
       "  padding-left: 1em;\n",
       "}\n",
       "\n",
       "\n",
       "/* Toggleable style: style used for estimator/Pipeline/ColumnTransformer box that is\n",
       "clickable and can be expanded/collapsed.\n",
       "- Pipeline and ColumnTransformer use this feature and define the default style\n",
       "- Estimators will overwrite some part of the style using the `sk-estimator` class\n",
       "*/\n",
       "\n",
       "/* Pipeline and ColumnTransformer style (default) */\n",
       "\n",
       "#sk-container-id-1 div.sk-toggleable {\n",
       "  /* Default theme specific background. It is overwritten whether we have a\n",
       "  specific estimator or a Pipeline/ColumnTransformer */\n",
       "  background-color: var(--sklearn-color-background);\n",
       "}\n",
       "\n",
       "/* Toggleable label */\n",
       "#sk-container-id-1 label.sk-toggleable__label {\n",
       "  cursor: pointer;\n",
       "  display: block;\n",
       "  width: 100%;\n",
       "  margin-bottom: 0;\n",
       "  padding: 0.5em;\n",
       "  box-sizing: border-box;\n",
       "  text-align: center;\n",
       "}\n",
       "\n",
       "#sk-container-id-1 label.sk-toggleable__label-arrow:before {\n",
       "  /* Arrow on the left of the label */\n",
       "  content: \"▸\";\n",
       "  float: left;\n",
       "  margin-right: 0.25em;\n",
       "  color: var(--sklearn-color-icon);\n",
       "}\n",
       "\n",
       "#sk-container-id-1 label.sk-toggleable__label-arrow:hover:before {\n",
       "  color: var(--sklearn-color-text);\n",
       "}\n",
       "\n",
       "/* Toggleable content - dropdown */\n",
       "\n",
       "#sk-container-id-1 div.sk-toggleable__content {\n",
       "  max-height: 0;\n",
       "  max-width: 0;\n",
       "  overflow: hidden;\n",
       "  text-align: left;\n",
       "  /* unfitted */\n",
       "  background-color: var(--sklearn-color-unfitted-level-0);\n",
       "}\n",
       "\n",
       "#sk-container-id-1 div.sk-toggleable__content.fitted {\n",
       "  /* fitted */\n",
       "  background-color: var(--sklearn-color-fitted-level-0);\n",
       "}\n",
       "\n",
       "#sk-container-id-1 div.sk-toggleable__content pre {\n",
       "  margin: 0.2em;\n",
       "  border-radius: 0.25em;\n",
       "  color: var(--sklearn-color-text);\n",
       "  /* unfitted */\n",
       "  background-color: var(--sklearn-color-unfitted-level-0);\n",
       "}\n",
       "\n",
       "#sk-container-id-1 div.sk-toggleable__content.fitted pre {\n",
       "  /* unfitted */\n",
       "  background-color: var(--sklearn-color-fitted-level-0);\n",
       "}\n",
       "\n",
       "#sk-container-id-1 input.sk-toggleable__control:checked~div.sk-toggleable__content {\n",
       "  /* Expand drop-down */\n",
       "  max-height: 200px;\n",
       "  max-width: 100%;\n",
       "  overflow: auto;\n",
       "}\n",
       "\n",
       "#sk-container-id-1 input.sk-toggleable__control:checked~label.sk-toggleable__label-arrow:before {\n",
       "  content: \"▾\";\n",
       "}\n",
       "\n",
       "/* Pipeline/ColumnTransformer-specific style */\n",
       "\n",
       "#sk-container-id-1 div.sk-label input.sk-toggleable__control:checked~label.sk-toggleable__label {\n",
       "  color: var(--sklearn-color-text);\n",
       "  background-color: var(--sklearn-color-unfitted-level-2);\n",
       "}\n",
       "\n",
       "#sk-container-id-1 div.sk-label.fitted input.sk-toggleable__control:checked~label.sk-toggleable__label {\n",
       "  background-color: var(--sklearn-color-fitted-level-2);\n",
       "}\n",
       "\n",
       "/* Estimator-specific style */\n",
       "\n",
       "/* Colorize estimator box */\n",
       "#sk-container-id-1 div.sk-estimator input.sk-toggleable__control:checked~label.sk-toggleable__label {\n",
       "  /* unfitted */\n",
       "  background-color: var(--sklearn-color-unfitted-level-2);\n",
       "}\n",
       "\n",
       "#sk-container-id-1 div.sk-estimator.fitted input.sk-toggleable__control:checked~label.sk-toggleable__label {\n",
       "  /* fitted */\n",
       "  background-color: var(--sklearn-color-fitted-level-2);\n",
       "}\n",
       "\n",
       "#sk-container-id-1 div.sk-label label.sk-toggleable__label,\n",
       "#sk-container-id-1 div.sk-label label {\n",
       "  /* The background is the default theme color */\n",
       "  color: var(--sklearn-color-text-on-default-background);\n",
       "}\n",
       "\n",
       "/* On hover, darken the color of the background */\n",
       "#sk-container-id-1 div.sk-label:hover label.sk-toggleable__label {\n",
       "  color: var(--sklearn-color-text);\n",
       "  background-color: var(--sklearn-color-unfitted-level-2);\n",
       "}\n",
       "\n",
       "/* Label box, darken color on hover, fitted */\n",
       "#sk-container-id-1 div.sk-label.fitted:hover label.sk-toggleable__label.fitted {\n",
       "  color: var(--sklearn-color-text);\n",
       "  background-color: var(--sklearn-color-fitted-level-2);\n",
       "}\n",
       "\n",
       "/* Estimator label */\n",
       "\n",
       "#sk-container-id-1 div.sk-label label {\n",
       "  font-family: monospace;\n",
       "  font-weight: bold;\n",
       "  display: inline-block;\n",
       "  line-height: 1.2em;\n",
       "}\n",
       "\n",
       "#sk-container-id-1 div.sk-label-container {\n",
       "  text-align: center;\n",
       "}\n",
       "\n",
       "/* Estimator-specific */\n",
       "#sk-container-id-1 div.sk-estimator {\n",
       "  font-family: monospace;\n",
       "  border: 1px dotted var(--sklearn-color-border-box);\n",
       "  border-radius: 0.25em;\n",
       "  box-sizing: border-box;\n",
       "  margin-bottom: 0.5em;\n",
       "  /* unfitted */\n",
       "  background-color: var(--sklearn-color-unfitted-level-0);\n",
       "}\n",
       "\n",
       "#sk-container-id-1 div.sk-estimator.fitted {\n",
       "  /* fitted */\n",
       "  background-color: var(--sklearn-color-fitted-level-0);\n",
       "}\n",
       "\n",
       "/* on hover */\n",
       "#sk-container-id-1 div.sk-estimator:hover {\n",
       "  /* unfitted */\n",
       "  background-color: var(--sklearn-color-unfitted-level-2);\n",
       "}\n",
       "\n",
       "#sk-container-id-1 div.sk-estimator.fitted:hover {\n",
       "  /* fitted */\n",
       "  background-color: var(--sklearn-color-fitted-level-2);\n",
       "}\n",
       "\n",
       "/* Specification for estimator info (e.g. \"i\" and \"?\") */\n",
       "\n",
       "/* Common style for \"i\" and \"?\" */\n",
       "\n",
       ".sk-estimator-doc-link,\n",
       "a:link.sk-estimator-doc-link,\n",
       "a:visited.sk-estimator-doc-link {\n",
       "  float: right;\n",
       "  font-size: smaller;\n",
       "  line-height: 1em;\n",
       "  font-family: monospace;\n",
       "  background-color: var(--sklearn-color-background);\n",
       "  border-radius: 1em;\n",
       "  height: 1em;\n",
       "  width: 1em;\n",
       "  text-decoration: none !important;\n",
       "  margin-left: 1ex;\n",
       "  /* unfitted */\n",
       "  border: var(--sklearn-color-unfitted-level-1) 1pt solid;\n",
       "  color: var(--sklearn-color-unfitted-level-1);\n",
       "}\n",
       "\n",
       ".sk-estimator-doc-link.fitted,\n",
       "a:link.sk-estimator-doc-link.fitted,\n",
       "a:visited.sk-estimator-doc-link.fitted {\n",
       "  /* fitted */\n",
       "  border: var(--sklearn-color-fitted-level-1) 1pt solid;\n",
       "  color: var(--sklearn-color-fitted-level-1);\n",
       "}\n",
       "\n",
       "/* On hover */\n",
       "div.sk-estimator:hover .sk-estimator-doc-link:hover,\n",
       ".sk-estimator-doc-link:hover,\n",
       "div.sk-label-container:hover .sk-estimator-doc-link:hover,\n",
       ".sk-estimator-doc-link:hover {\n",
       "  /* unfitted */\n",
       "  background-color: var(--sklearn-color-unfitted-level-3);\n",
       "  color: var(--sklearn-color-background);\n",
       "  text-decoration: none;\n",
       "}\n",
       "\n",
       "div.sk-estimator.fitted:hover .sk-estimator-doc-link.fitted:hover,\n",
       ".sk-estimator-doc-link.fitted:hover,\n",
       "div.sk-label-container:hover .sk-estimator-doc-link.fitted:hover,\n",
       ".sk-estimator-doc-link.fitted:hover {\n",
       "  /* fitted */\n",
       "  background-color: var(--sklearn-color-fitted-level-3);\n",
       "  color: var(--sklearn-color-background);\n",
       "  text-decoration: none;\n",
       "}\n",
       "\n",
       "/* Span, style for the box shown on hovering the info icon */\n",
       ".sk-estimator-doc-link span {\n",
       "  display: none;\n",
       "  z-index: 9999;\n",
       "  position: relative;\n",
       "  font-weight: normal;\n",
       "  right: .2ex;\n",
       "  padding: .5ex;\n",
       "  margin: .5ex;\n",
       "  width: min-content;\n",
       "  min-width: 20ex;\n",
       "  max-width: 50ex;\n",
       "  color: var(--sklearn-color-text);\n",
       "  box-shadow: 2pt 2pt 4pt #999;\n",
       "  /* unfitted */\n",
       "  background: var(--sklearn-color-unfitted-level-0);\n",
       "  border: .5pt solid var(--sklearn-color-unfitted-level-3);\n",
       "}\n",
       "\n",
       ".sk-estimator-doc-link.fitted span {\n",
       "  /* fitted */\n",
       "  background: var(--sklearn-color-fitted-level-0);\n",
       "  border: var(--sklearn-color-fitted-level-3);\n",
       "}\n",
       "\n",
       ".sk-estimator-doc-link:hover span {\n",
       "  display: block;\n",
       "}\n",
       "\n",
       "/* \"?\"-specific style due to the `<a>` HTML tag */\n",
       "\n",
       "#sk-container-id-1 a.estimator_doc_link {\n",
       "  float: right;\n",
       "  font-size: 1rem;\n",
       "  line-height: 1em;\n",
       "  font-family: monospace;\n",
       "  background-color: var(--sklearn-color-background);\n",
       "  border-radius: 1rem;\n",
       "  height: 1rem;\n",
       "  width: 1rem;\n",
       "  text-decoration: none;\n",
       "  /* unfitted */\n",
       "  color: var(--sklearn-color-unfitted-level-1);\n",
       "  border: var(--sklearn-color-unfitted-level-1) 1pt solid;\n",
       "}\n",
       "\n",
       "#sk-container-id-1 a.estimator_doc_link.fitted {\n",
       "  /* fitted */\n",
       "  border: var(--sklearn-color-fitted-level-1) 1pt solid;\n",
       "  color: var(--sklearn-color-fitted-level-1);\n",
       "}\n",
       "\n",
       "/* On hover */\n",
       "#sk-container-id-1 a.estimator_doc_link:hover {\n",
       "  /* unfitted */\n",
       "  background-color: var(--sklearn-color-unfitted-level-3);\n",
       "  color: var(--sklearn-color-background);\n",
       "  text-decoration: none;\n",
       "}\n",
       "\n",
       "#sk-container-id-1 a.estimator_doc_link.fitted:hover {\n",
       "  /* fitted */\n",
       "  background-color: var(--sklearn-color-fitted-level-3);\n",
       "}\n",
       "</style><div id=\"sk-container-id-1\" class=\"sk-top-container\"><div class=\"sk-text-repr-fallback\"><pre>GridSearchCV(cv=5,\n",
       "             estimator=Pipeline(steps=[(&#x27;bow_vectorizer&#x27;,\n",
       "                                        CountVectorizer(max_features=1000)),\n",
       "                                       (&#x27;logistic_regression&#x27;,\n",
       "                                        LogisticRegression(max_iter=1000))]),\n",
       "             param_grid={&#x27;bow_vectorizer__ngram_range&#x27;: [(1, 1), (1, 2), (2, 2),\n",
       "                                                         (1, 3)]},\n",
       "             scoring=&#x27;accuracy&#x27;)</pre><b>In a Jupyter environment, please rerun this cell to show the HTML representation or trust the notebook. <br />On GitHub, the HTML representation is unable to render, please try loading this page with nbviewer.org.</b></div><div class=\"sk-container\" hidden><div class=\"sk-item sk-dashed-wrapped\"><div class=\"sk-label-container\"><div class=\"sk-label fitted sk-toggleable\"><input class=\"sk-toggleable__control sk-hidden--visually\" id=\"sk-estimator-id-1\" type=\"checkbox\" ><label for=\"sk-estimator-id-1\" class=\"sk-toggleable__label fitted sk-toggleable__label-arrow fitted\">&nbsp;&nbsp;GridSearchCV<a class=\"sk-estimator-doc-link fitted\" rel=\"noreferrer\" target=\"_blank\" href=\"https://scikit-learn.org/1.5/modules/generated/sklearn.model_selection.GridSearchCV.html\">?<span>Documentation for GridSearchCV</span></a><span class=\"sk-estimator-doc-link fitted\">i<span>Fitted</span></span></label><div class=\"sk-toggleable__content fitted\"><pre>GridSearchCV(cv=5,\n",
       "             estimator=Pipeline(steps=[(&#x27;bow_vectorizer&#x27;,\n",
       "                                        CountVectorizer(max_features=1000)),\n",
       "                                       (&#x27;logistic_regression&#x27;,\n",
       "                                        LogisticRegression(max_iter=1000))]),\n",
       "             param_grid={&#x27;bow_vectorizer__ngram_range&#x27;: [(1, 1), (1, 2), (2, 2),\n",
       "                                                         (1, 3)]},\n",
       "             scoring=&#x27;accuracy&#x27;)</pre></div> </div></div><div class=\"sk-parallel\"><div class=\"sk-parallel-item\"><div class=\"sk-item\"><div class=\"sk-label-container\"><div class=\"sk-label fitted sk-toggleable\"><input class=\"sk-toggleable__control sk-hidden--visually\" id=\"sk-estimator-id-2\" type=\"checkbox\" ><label for=\"sk-estimator-id-2\" class=\"sk-toggleable__label fitted sk-toggleable__label-arrow fitted\">best_estimator_: Pipeline</label><div class=\"sk-toggleable__content fitted\"><pre>Pipeline(steps=[(&#x27;bow_vectorizer&#x27;, CountVectorizer(max_features=1000)),\n",
       "                (&#x27;logistic_regression&#x27;, LogisticRegression(max_iter=1000))])</pre></div> </div></div><div class=\"sk-serial\"><div class=\"sk-item\"><div class=\"sk-serial\"><div class=\"sk-item\"><div class=\"sk-estimator fitted sk-toggleable\"><input class=\"sk-toggleable__control sk-hidden--visually\" id=\"sk-estimator-id-3\" type=\"checkbox\" ><label for=\"sk-estimator-id-3\" class=\"sk-toggleable__label fitted sk-toggleable__label-arrow fitted\">&nbsp;CountVectorizer<a class=\"sk-estimator-doc-link fitted\" rel=\"noreferrer\" target=\"_blank\" href=\"https://scikit-learn.org/1.5/modules/generated/sklearn.feature_extraction.text.CountVectorizer.html\">?<span>Documentation for CountVectorizer</span></a></label><div class=\"sk-toggleable__content fitted\"><pre>CountVectorizer(max_features=1000)</pre></div> </div></div><div class=\"sk-item\"><div class=\"sk-estimator fitted sk-toggleable\"><input class=\"sk-toggleable__control sk-hidden--visually\" id=\"sk-estimator-id-4\" type=\"checkbox\" ><label for=\"sk-estimator-id-4\" class=\"sk-toggleable__label fitted sk-toggleable__label-arrow fitted\">&nbsp;LogisticRegression<a class=\"sk-estimator-doc-link fitted\" rel=\"noreferrer\" target=\"_blank\" href=\"https://scikit-learn.org/1.5/modules/generated/sklearn.linear_model.LogisticRegression.html\">?<span>Documentation for LogisticRegression</span></a></label><div class=\"sk-toggleable__content fitted\"><pre>LogisticRegression(max_iter=1000)</pre></div> </div></div></div></div></div></div></div></div></div></div></div>"
      ],
      "text/plain": [
       "GridSearchCV(cv=5,\n",
       "             estimator=Pipeline(steps=[('bow_vectorizer',\n",
       "                                        CountVectorizer(max_features=1000)),\n",
       "                                       ('logistic_regression',\n",
       "                                        LogisticRegression(max_iter=1000))]),\n",
       "             param_grid={'bow_vectorizer__ngram_range': [(1, 1), (1, 2), (2, 2),\n",
       "                                                         (1, 3)]},\n",
       "             scoring='accuracy')"
      ]
     },
     "execution_count": 27,
     "metadata": {},
     "output_type": "execute_result"
    }
   ],
   "source": [
    "grid = GridSearchCV(pipeline_bow_logistic_regression,param_grid_bow,cv=5,scoring = \"accuracy\")\n",
    "grid.fit(X_train_stem,y_train_stem)"
   ]
  },
  {
   "cell_type": "code",
   "execution_count": 33,
   "id": "cd05186e-c436-4a6d-81fc-03cbe2753c0d",
   "metadata": {},
   "outputs": [
    {
     "data": {
      "text/plain": [
       "{'bow_vectorizer__ngram_range': (1, 1)}"
      ]
     },
     "execution_count": 33,
     "metadata": {},
     "output_type": "execute_result"
    }
   ],
   "source": [
    "grid.best_params_"
   ]
  },
  {
   "cell_type": "code",
   "execution_count": 35,
   "id": "8c8da6d3-f36e-4661-94bf-bf9ba58cb6a3",
   "metadata": {},
   "outputs": [],
   "source": [
    "y_pred=grid.predict(X_test_stem)"
   ]
  },
  {
   "cell_type": "code",
   "execution_count": 37,
   "id": "bf3e0cf4-0e42-4ae8-ae82-6374e03ae62c",
   "metadata": {},
   "outputs": [],
   "source": [
    "accuracy = accuracy_score(y_pred,y_test_stem)"
   ]
  },
  {
   "cell_type": "code",
   "execution_count": 39,
   "id": "c1fd221b-fed3-4b59-8aa3-ae3e9ab3304f",
   "metadata": {},
   "outputs": [
    {
     "data": {
      "text/plain": [
       "0.5939045038943447"
      ]
     },
     "execution_count": 39,
     "metadata": {},
     "output_type": "execute_result"
    }
   ],
   "source": [
    "accuracy"
   ]
  },
  {
   "cell_type": "code",
   "execution_count": null,
   "id": "0575378f-7e6e-42da-b662-120245f188ee",
   "metadata": {},
   "outputs": [],
   "source": [
    "#The best ngram is (1,1) ie unigram"
   ]
  },
  {
   "cell_type": "code",
   "execution_count": 84,
   "id": "3dea0468-2791-4ea0-9f3a-1779fe878514",
   "metadata": {},
   "outputs": [],
   "source": [
    "pipeline_bow_randomforest = Pipeline([\n",
    "    ('bow_vectorizer', CountVectorizer()),\n",
    "    ('randomforest', RandomForestClassifier())])\n",
    "\n",
    "pipeline_bow_multinomial = Pipeline([\n",
    "    ('bow_vectorizer', CountVectorizer()),\n",
    "    ('randomforest', MultinomialNB())])\n",
    "\n",
    "pipeline_tfidf_randomforest = Pipeline([\n",
    "    ('tfidf_vectorizer', TfidfVectorizer()),\n",
    "    ('multinomial', RandomForestClassifier())])\n",
    "\n",
    "pipeline_tfidf_multinomial = Pipeline([\n",
    "    ('tfidf_vectorizer', TfidfVectorizer()),\n",
    "    ('multinomial', MultinomialNB())])"
   ]
  },
  {
   "cell_type": "markdown",
   "id": "275a6b3b-1c18-4457-a367-c056fb15f164",
   "metadata": {},
   "source": [
    "1. Training on Stemming"
   ]
  },
  {
   "cell_type": "code",
   "execution_count": 95,
   "id": "e8ebdcce-8d41-4b1c-bcf6-1a4ff3f626d3",
   "metadata": {},
   "outputs": [
    {
     "data": {
      "text/plain": [
       "0.7800203183203522"
      ]
     },
     "execution_count": 95,
     "metadata": {},
     "output_type": "execute_result"
    }
   ],
   "source": [
    "pipeline_tfidf_logistic_regression.fit(X_train_stem,y_train_stem)\n",
    "y_pred_stem_tfidf_logistic=pipeline_tfidf_logistic_regression.predict(X_test_stem)\n",
    "accuracy_score(y_test_stem,y_pred_stem_tfidf_logistic)"
   ]
  },
  {
   "cell_type": "code",
   "execution_count": 88,
   "id": "18f24fbc-c7cc-4d93-8f0f-23186665cdbd",
   "metadata": {},
   "outputs": [
    {
     "data": {
      "text/plain": [
       "0.9194039959363359"
      ]
     },
     "execution_count": 88,
     "metadata": {},
     "output_type": "execute_result"
    }
   ],
   "source": [
    "pipeline_bow_randomforest.fit(X_train_stem,y_train_stem)\n",
    "y_pred_stem_bow_randomforest=pipeline_bow_randomforest.predict(X_test_stem)\n",
    "accuracy_score(y_test_stem,y_pred_stem_bow_randomforest)"
   ]
  },
  {
   "cell_type": "code",
   "execution_count": 89,
   "id": "6d9cf4a6-8753-4aa9-9e74-56e157f189cf",
   "metadata": {},
   "outputs": [
    {
     "data": {
      "text/plain": [
       "0.7391127666779547"
      ]
     },
     "execution_count": 89,
     "metadata": {},
     "output_type": "execute_result"
    }
   ],
   "source": [
    "pipeline_bow_multinomial.fit(X_train_stem,y_train_stem)\n",
    "y_pred_stem_bow_multinomial=pipeline_bow_multinomial.predict(X_test_stem)\n",
    "accuracy_score(y_test_stem,y_pred_stem_bow_multinomial)"
   ]
  },
  {
   "cell_type": "code",
   "execution_count": 90,
   "id": "d0c7f6b9-6629-49c8-b952-d15107854a85",
   "metadata": {},
   "outputs": [
    {
     "data": {
      "text/plain": [
       "0.9235353877412801"
      ]
     },
     "execution_count": 90,
     "metadata": {},
     "output_type": "execute_result"
    }
   ],
   "source": [
    "pipeline_tfidf_randomforest.fit(X_train_stem,y_train_stem)\n",
    "y_pred_stem_tfidf_randomforest=pipeline_tfidf_randomforest.predict(X_test_stem)\n",
    "accuracy_score(y_test_stem,y_pred_stem_tfidf_randomforest)"
   ]
  },
  {
   "cell_type": "code",
   "execution_count": 91,
   "id": "bf306a81-3bb1-47dd-8273-d5812c31b7e5",
   "metadata": {},
   "outputs": [
    {
     "data": {
      "text/plain": [
       "0.7263122248560786"
      ]
     },
     "execution_count": 91,
     "metadata": {},
     "output_type": "execute_result"
    }
   ],
   "source": [
    "pipeline_tfidf_multinomial.fit(X_train_stem,y_train_stem)\n",
    "y_pred_stem_tfidf_multinomial=pipeline_tfidf_multinomial.predict(X_test_stem)\n",
    "accuracy_score(y_test_stem,y_pred_stem_tfidf_multinomial)"
   ]
  },
  {
   "cell_type": "markdown",
   "id": "ac80f178-fde8-41c5-915a-93bb7ac2e905",
   "metadata": {},
   "source": [
    "2. Now Training in Lemmatized text"
   ]
  },
  {
   "cell_type": "code",
   "execution_count": 63,
   "id": "62c69eb2-01ae-47e4-8bcf-f2182f90abff",
   "metadata": {},
   "outputs": [],
   "source": [
    "X_lemma = df_lemma[\"text\"]\n",
    "y_lemma =df_lemma[\"sentiment\"]\n",
    "X_lemma = X_lemma.astype(str)"
   ]
  },
  {
   "cell_type": "code",
   "execution_count": 65,
   "id": "50b282c0-d167-424e-bd99-e3dbca2fd8a8",
   "metadata": {},
   "outputs": [],
   "source": [
    "X_train_lemma,X_test_lemma,y_train_lemma,y_test_lemma=train_test_split(X_lemma,y_lemma,test_size=0.2,random_state=1)"
   ]
  },
  {
   "cell_type": "code",
   "execution_count": 96,
   "id": "d8152d05-05b2-4f10-8b75-1d10bf650d92",
   "metadata": {},
   "outputs": [
    {
     "data": {
      "text/plain": [
       "0.8417880121909922"
      ]
     },
     "execution_count": 96,
     "metadata": {},
     "output_type": "execute_result"
    }
   ],
   "source": [
    "pipeline_bow_logistic_regression.fit(X_train_lemma,y_train_lemma)\n",
    "y_pred_lemma_bow_logistic=pipeline_bow_logistic_regression.predict(X_test_lemma)\n",
    "accuracy_score(y_test_lemma,y_pred_lemma_bow_logistic)"
   ]
  },
  {
   "cell_type": "code",
   "execution_count": 97,
   "id": "2911ff86-583a-4101-85d4-2a98202081ff",
   "metadata": {},
   "outputs": [
    {
     "data": {
      "text/plain": [
       "0.7967490687436505"
      ]
     },
     "execution_count": 97,
     "metadata": {},
     "output_type": "execute_result"
    }
   ],
   "source": [
    "pipeline_tfidf_logistic_regression.fit(X_train_lemma,y_train_lemma)\n",
    "y_pred_lemma_tfidf_logistic=pipeline_tfidf_logistic_regression.predict(X_test_lemma)\n",
    "accuracy_score(y_test_lemma,y_pred_lemma_tfidf_logistic)"
   ]
  },
  {
   "cell_type": "code",
   "execution_count": 98,
   "id": "f658147c-67ff-4b7b-91f9-efa3533e7ebe",
   "metadata": {},
   "outputs": [
    {
     "data": {
      "text/plain": [
       "0.9177785303081611"
      ]
     },
     "execution_count": 98,
     "metadata": {},
     "output_type": "execute_result"
    }
   ],
   "source": [
    "pipeline_bow_randomforest.fit(X_train_lemma,y_train_lemma)\n",
    "y_pred_lemma_bow_randomforest=pipeline_bow_randomforest.predict(X_test_lemma)\n",
    "accuracy_score(y_test_lemma,y_pred_lemma_bow_randomforest)"
   ]
  },
  {
   "cell_type": "code",
   "execution_count": 99,
   "id": "dab42715-a612-41cf-b67e-b5d67852997b",
   "metadata": {},
   "outputs": [
    {
     "data": {
      "text/plain": [
       "0.7565187944463257"
      ]
     },
     "execution_count": 99,
     "metadata": {},
     "output_type": "execute_result"
    }
   ],
   "source": [
    "pipeline_bow_multinomial.fit(X_train_lemma,y_train_lemma)\n",
    "y_pred_lemma_bow_multinomial=pipeline_bow_multinomial.predict(X_test_lemma)\n",
    "accuracy_score(y_test_lemma,y_pred_lemma_bow_multinomial)"
   ]
  },
  {
   "cell_type": "code",
   "execution_count": 100,
   "id": "c54f78c4-9d42-492f-82d3-c3e1c3f0a25d",
   "metadata": {},
   "outputs": [
    {
     "data": {
      "text/plain": [
       "0.9210294615645107"
      ]
     },
     "execution_count": 100,
     "metadata": {},
     "output_type": "execute_result"
    }
   ],
   "source": [
    "pipeline_tfidf_randomforest.fit(X_train_lemma,y_train_lemma)\n",
    "y_pred_lemma_tfidf_randomforest=pipeline_tfidf_randomforest.predict(X_test_lemma)\n",
    "accuracy_score(y_test_lemma,y_pred_lemma_tfidf_randomforest)"
   ]
  },
  {
   "cell_type": "code",
   "execution_count": 101,
   "id": "d357574e-f0d3-449b-9b82-2d06252c7fed",
   "metadata": {},
   "outputs": [
    {
     "data": {
      "text/plain": [
       "0.7383677615983746"
      ]
     },
     "execution_count": 101,
     "metadata": {},
     "output_type": "execute_result"
    }
   ],
   "source": [
    "pipeline_tfidf_multinomial.fit(X_train_lemma,y_train_lemma)\n",
    "y_pred_lemma_tfidf_multinomial=pipeline_tfidf_multinomial.predict(X_test_lemma)\n",
    "accuracy_score(y_test_lemma,y_pred_lemma_tfidf_multinomial)"
   ]
  },
  {
   "cell_type": "markdown",
   "id": "4acd1160-3e79-42a4-bbad-4c866c5b7e62",
   "metadata": {},
   "source": [
    "the best model is stem , tfidf, randomforest"
   ]
  },
  {
   "cell_type": "code",
   "execution_count": 118,
   "id": "0d43b654-278d-44ba-979f-ae240e8f463d",
   "metadata": {},
   "outputs": [
    {
     "name": "stdout",
     "output_type": "stream",
     "text": [
      "              precision    recall  f1-score   support\n",
      "\n",
      "           0       0.97      0.87      0.92      2593\n",
      "           1       0.88      0.94      0.91      4175\n",
      "           2       0.92      0.95      0.94      4437\n",
      "           3       0.94      0.91      0.93      3560\n",
      "\n",
      "    accuracy                           0.92     14765\n",
      "   macro avg       0.93      0.92      0.92     14765\n",
      "weighted avg       0.93      0.92      0.92     14765\n",
      "\n"
     ]
    }
   ],
   "source": [
    "print(classification_report(y_test_stem, y_pred_stem_tfidf_randomforest))"
   ]
  },
  {
   "cell_type": "code",
   "execution_count": null,
   "id": "79ef241c-de27-4818-bcc0-7570aff47bfe",
   "metadata": {},
   "outputs": [],
   "source": []
  }
 ],
 "metadata": {
  "kernelspec": {
   "display_name": "Python [conda env:base] *",
   "language": "python",
   "name": "conda-base-py"
  },
  "language_info": {
   "codemirror_mode": {
    "name": "ipython",
    "version": 3
   },
   "file_extension": ".py",
   "mimetype": "text/x-python",
   "name": "python",
   "nbconvert_exporter": "python",
   "pygments_lexer": "ipython3",
   "version": "3.12.7"
  }
 },
 "nbformat": 4,
 "nbformat_minor": 5
}
